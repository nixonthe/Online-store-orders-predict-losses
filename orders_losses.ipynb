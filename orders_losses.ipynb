{
  "nbformat": 4,
  "nbformat_minor": 0,
  "metadata": {
    "colab": {
      "name": "orders_losses.ipynb",
      "provenance": [],
      "collapsed_sections": [
        "S3kpbcVXaC7y",
        "WxoMcNoKaNwU",
        "v84PGy9OaXL5",
        "awX98nKaosFo"
      ]
    },
    "kernelspec": {
      "name": "python3",
      "display_name": "Python 3"
    },
    "language_info": {
      "name": "python"
    },
    "accelerator": "GPU"
  },
  "cells": [
    {
      "cell_type": "markdown",
      "metadata": {
        "id": "WxoMcNoKaNwU"
      },
      "source": [
        "# Import libs and data extracting"
      ]
    },
    {
      "cell_type": "code",
      "metadata": {
        "id": "WGqKduazxBE0"
      },
      "source": [
        "import numpy as np\n",
        "import pandas as pd\n",
        "from datetime import date\n",
        "import matplotlib.pyplot as plt\n",
        "import seaborn as sns\n",
        "from sklearn.model_selection import train_test_split, GridSearchCV\n",
        "from sklearn.metrics import mean_absolute_error, r2_score\n",
        "from sklearn.ensemble import VotingRegressor\n",
        "from lightgbm import LGBMRegressor\n",
        "import xgboost as xgb\n",
        "import warnings\n",
        "\n",
        "warnings.filterwarnings(\"ignore\")"
      ],
      "execution_count": null,
      "outputs": []
    },
    {
      "cell_type": "code",
      "metadata": {
        "id": "T0hOOTQcxFuS"
      },
      "source": [
        "!unzip -q data_science_task.zip -d /content"
      ],
      "execution_count": null,
      "outputs": []
    },
    {
      "cell_type": "code",
      "metadata": {
        "id": "WV4vpD7-616L",
        "colab": {
          "base_uri": "https://localhost:8080/"
        },
        "outputId": "710cad6d-fb20-4938-b345-e344d1ed49fa"
      },
      "source": [
        "# check out what we've unzipped\n",
        "!ls /content"
      ],
      "execution_count": null,
      "outputs": [
        {
          "output_type": "stream",
          "text": [
            "df_test.csv  df_train.csv  drive  sample_data\n"
          ],
          "name": "stdout"
        }
      ]
    },
    {
      "cell_type": "code",
      "metadata": {
        "colab": {
          "base_uri": "https://localhost:8080/",
          "height": 547
        },
        "id": "a6I-7oHlyFRx",
        "outputId": "be04e3ad-3854-4d3b-fc90-3c18a638c65f"
      },
      "source": [
        "train_df = pd.read_csv('/content/df_train.csv')\n",
        "test_df = pd.read_csv('/content/df_test.csv')\n",
        "\n",
        "train_df.head()"
      ],
      "execution_count": null,
      "outputs": [
        {
          "output_type": "execute_result",
          "data": {
            "text/html": [
              "<div>\n",
              "<style scoped>\n",
              "    .dataframe tbody tr th:only-of-type {\n",
              "        vertical-align: middle;\n",
              "    }\n",
              "\n",
              "    .dataframe tbody tr th {\n",
              "        vertical-align: top;\n",
              "    }\n",
              "\n",
              "    .dataframe thead th {\n",
              "        text-align: right;\n",
              "    }\n",
              "</style>\n",
              "<table border=\"1\" class=\"dataframe\">\n",
              "  <thead>\n",
              "    <tr style=\"text-align: right;\">\n",
              "      <th></th>\n",
              "      <th>Unnamed: 0</th>\n",
              "      <th>order_id</th>\n",
              "      <th>departure_country</th>\n",
              "      <th>departure_city</th>\n",
              "      <th>departure_region</th>\n",
              "      <th>arrival_country</th>\n",
              "      <th>arrival_city</th>\n",
              "      <th>arrival_region</th>\n",
              "      <th>order_date</th>\n",
              "      <th>stock_departure_date</th>\n",
              "      <th>delivery_service_departure_date</th>\n",
              "      <th>client_arrival_date</th>\n",
              "      <th>item_type</th>\n",
              "      <th>client_keywords</th>\n",
              "      <th>client_device_type</th>\n",
              "      <th>client_browser</th>\n",
              "      <th>item_package_type</th>\n",
              "      <th>client_is_app</th>\n",
              "      <th>order_tracking_available</th>\n",
              "      <th>brand_name</th>\n",
              "      <th>item_id</th>\n",
              "      <th>item_category</th>\n",
              "      <th>delivery_service_name</th>\n",
              "      <th>type_prepayment</th>\n",
              "      <th>item_price</th>\n",
              "      <th>item_losses</th>\n",
              "    </tr>\n",
              "  </thead>\n",
              "  <tbody>\n",
              "    <tr>\n",
              "      <th>0</th>\n",
              "      <td>0</td>\n",
              "      <td>1c25f312-fefc-41ee-b328-8fe1fd188e75</td>\n",
              "      <td>12</td>\n",
              "      <td>565.0</td>\n",
              "      <td>466</td>\n",
              "      <td>12</td>\n",
              "      <td>162.0</td>\n",
              "      <td>888</td>\n",
              "      <td>2017-12-27 09:49:55</td>\n",
              "      <td>00-48-00 2018-01-02</td>\n",
              "      <td>12-04-00 2018-01-03</td>\n",
              "      <td>18-09-00 2018-01-03</td>\n",
              "      <td>0</td>\n",
              "      <td>[326, 51, 37]</td>\n",
              "      <td>1</td>\n",
              "      <td>0</td>\n",
              "      <td>c82a2ea6-cbf1-46af-98c5-acd43b174f5d</td>\n",
              "      <td>True</td>\n",
              "      <td>0</td>\n",
              "      <td>[]</td>\n",
              "      <td>b1905241-ab8b-40e6-ae0a-8f614656f304</td>\n",
              "      <td>25f9f297-40a8-45d9-bb67-4b0f6dad1315</td>\n",
              "      <td>409f1e13-81ae-4e36-9bd2-6a6c53d38601</td>\n",
              "      <td>1</td>\n",
              "      <td>443.228241</td>\n",
              "      <td>0.000000</td>\n",
              "    </tr>\n",
              "    <tr>\n",
              "      <th>1</th>\n",
              "      <td>1</td>\n",
              "      <td>c2a596a4-1a51-4269-b9f0-5c943c4f830d</td>\n",
              "      <td>12</td>\n",
              "      <td>361.0</td>\n",
              "      <td>292</td>\n",
              "      <td>12</td>\n",
              "      <td>121.0</td>\n",
              "      <td>351</td>\n",
              "      <td>2016-10-17 21:17:17</td>\n",
              "      <td>14-50-00 2016-11-02</td>\n",
              "      <td>21-33-00 2016-11-02</td>\n",
              "      <td>08-10-00 2016-11-03</td>\n",
              "      <td>0</td>\n",
              "      <td>[77]</td>\n",
              "      <td>2</td>\n",
              "      <td>1</td>\n",
              "      <td>c82a2ea6-cbf1-46af-98c5-acd43b174f5d</td>\n",
              "      <td>True</td>\n",
              "      <td>0</td>\n",
              "      <td>['9e20fbd2-b0aa-4b6a-ae04-0fb3724f5a5d', '73d1...</td>\n",
              "      <td>5121ddf1-2a2b-4cff-a1db-7b8550799cd6</td>\n",
              "      <td>25f9f297-40a8-45d9-bb67-4b0f6dad1315</td>\n",
              "      <td>5c8a6701-853f-4721-86f0-86e79f7220c4</td>\n",
              "      <td>2</td>\n",
              "      <td>589.481978</td>\n",
              "      <td>0.000000</td>\n",
              "    </tr>\n",
              "    <tr>\n",
              "      <th>2</th>\n",
              "      <td>2</td>\n",
              "      <td>d84abb0b-29f3-47bd-886e-c7cd3866bc7a</td>\n",
              "      <td>12</td>\n",
              "      <td>125.0</td>\n",
              "      <td>1666</td>\n",
              "      <td>12</td>\n",
              "      <td>634.0</td>\n",
              "      <td>530</td>\n",
              "      <td>2017-04-26 18:23:43</td>\n",
              "      <td>21-15-00 2017-05-06</td>\n",
              "      <td>21-15-00 2017-05-06</td>\n",
              "      <td>00-37-00 2017-05-07</td>\n",
              "      <td>0</td>\n",
              "      <td>None</td>\n",
              "      <td>3</td>\n",
              "      <td>0</td>\n",
              "      <td>c82a2ea6-cbf1-46af-98c5-acd43b174f5d</td>\n",
              "      <td>True</td>\n",
              "      <td>0</td>\n",
              "      <td>['3816a29d-7d91-472b-a8b9-7367327800ed', 'af1b...</td>\n",
              "      <td>3bba1740-10f2-47e9-81c4-a75ec9b4445a</td>\n",
              "      <td>5554bea4-f3cd-4432-bb13-73698f52de88</td>\n",
              "      <td>5c8a6701-853f-4721-86f0-86e79f7220c4</td>\n",
              "      <td>2</td>\n",
              "      <td>110.946960</td>\n",
              "      <td>0.000000</td>\n",
              "    </tr>\n",
              "    <tr>\n",
              "      <th>3</th>\n",
              "      <td>3</td>\n",
              "      <td>5813b65b-1c55-4faf-83c8-4c1815498f49</td>\n",
              "      <td>12</td>\n",
              "      <td>507.0</td>\n",
              "      <td>263</td>\n",
              "      <td>12</td>\n",
              "      <td>171.0</td>\n",
              "      <td>1398</td>\n",
              "      <td>2017-07-01 20:02:55</td>\n",
              "      <td>20-43-00 2017-07-09</td>\n",
              "      <td>20-43-00 2017-07-09</td>\n",
              "      <td>10-57-00 2017-07-10</td>\n",
              "      <td>0</td>\n",
              "      <td>None</td>\n",
              "      <td>0</td>\n",
              "      <td>0</td>\n",
              "      <td>c82a2ea6-cbf1-46af-98c5-acd43b174f5d</td>\n",
              "      <td>True</td>\n",
              "      <td>0</td>\n",
              "      <td>[]</td>\n",
              "      <td>0e602b6a-c66c-4e8a-993f-3cea1e4083cc</td>\n",
              "      <td>25f9f297-40a8-45d9-bb67-4b0f6dad1315</td>\n",
              "      <td>5c8a6701-853f-4721-86f0-86e79f7220c4</td>\n",
              "      <td>2</td>\n",
              "      <td>793.902828</td>\n",
              "      <td>0.000000</td>\n",
              "    </tr>\n",
              "    <tr>\n",
              "      <th>4</th>\n",
              "      <td>4</td>\n",
              "      <td>7907105b-fe87-412e-996c-bc1a27ae6c94</td>\n",
              "      <td>12</td>\n",
              "      <td>261.0</td>\n",
              "      <td>1597</td>\n",
              "      <td>12</td>\n",
              "      <td>125.0</td>\n",
              "      <td>1666</td>\n",
              "      <td>2017-05-31 18:18:31</td>\n",
              "      <td>21-38-00 2017-06-24</td>\n",
              "      <td>03-42-00 2017-06-25</td>\n",
              "      <td>09-13-00 2017-06-26</td>\n",
              "      <td>0</td>\n",
              "      <td>None</td>\n",
              "      <td>3</td>\n",
              "      <td>0</td>\n",
              "      <td>c82a2ea6-cbf1-46af-98c5-acd43b174f5d</td>\n",
              "      <td>True</td>\n",
              "      <td>0</td>\n",
              "      <td>['e0cd40f3-e4c4-4040-9a38-d69b5a2dc499', '9e89...</td>\n",
              "      <td>b5f83091-9e74-4b26-a86b-46f524e39489</td>\n",
              "      <td>ea77a36e-4b0c-4e8d-bf09-4c8398609ae1</td>\n",
              "      <td>5c8a6701-853f-4721-86f0-86e79f7220c4</td>\n",
              "      <td>2</td>\n",
              "      <td>1174.806858</td>\n",
              "      <td>119.655797</td>\n",
              "    </tr>\n",
              "  </tbody>\n",
              "</table>\n",
              "</div>"
            ],
            "text/plain": [
              "   Unnamed: 0                              order_id  ...   item_price  item_losses\n",
              "0           0  1c25f312-fefc-41ee-b328-8fe1fd188e75  ...   443.228241     0.000000\n",
              "1           1  c2a596a4-1a51-4269-b9f0-5c943c4f830d  ...   589.481978     0.000000\n",
              "2           2  d84abb0b-29f3-47bd-886e-c7cd3866bc7a  ...   110.946960     0.000000\n",
              "3           3  5813b65b-1c55-4faf-83c8-4c1815498f49  ...   793.902828     0.000000\n",
              "4           4  7907105b-fe87-412e-996c-bc1a27ae6c94  ...  1174.806858   119.655797\n",
              "\n",
              "[5 rows x 26 columns]"
            ]
          },
          "metadata": {
            "tags": []
          },
          "execution_count": 6
        }
      ]
    },
    {
      "cell_type": "code",
      "metadata": {
        "id": "crxq3Ub57vVo"
      },
      "source": [
        "print('Train size', train_df.shape)\n",
        "print('Test size', test_df.shape)"
      ],
      "execution_count": null,
      "outputs": []
    },
    {
      "cell_type": "markdown",
      "metadata": {
        "id": "v84PGy9OaXL5"
      },
      "source": [
        "# EDA"
      ]
    },
    {
      "cell_type": "code",
      "metadata": {
        "id": "JZfSwRPGpt9o",
        "colab": {
          "base_uri": "https://localhost:8080/"
        },
        "outputId": "f1f5a551-58bb-4733-95ee-a1160d0a5c09"
      },
      "source": [
        "# check out the case which train and test data could have mutual samples\n",
        "set(train_df.order_id)&set(set(test_df.order_id))"
      ],
      "execution_count": null,
      "outputs": [
        {
          "output_type": "execute_result",
          "data": {
            "text/plain": [
              "set()"
            ]
          },
          "metadata": {
            "tags": []
          },
          "execution_count": 8
        }
      ]
    },
    {
      "cell_type": "code",
      "metadata": {
        "id": "oR8tD5yxzQxQ",
        "colab": {
          "base_uri": "https://localhost:8080/"
        },
        "outputId": "10d309af-7c91-46c5-d33c-b3494fcd7789"
      },
      "source": [
        "# any missing values?\n",
        "train_df.isnull().sum()"
      ],
      "execution_count": null,
      "outputs": [
        {
          "output_type": "execute_result",
          "data": {
            "text/plain": [
              "Unnamed: 0                            0\n",
              "order_id                              0\n",
              "departure_country                     0\n",
              "departure_city                     6320\n",
              "departure_region                      0\n",
              "arrival_country                       0\n",
              "arrival_city                       8863\n",
              "arrival_region                        0\n",
              "order_date                            0\n",
              "stock_departure_date                  0\n",
              "delivery_service_departure_date       0\n",
              "client_arrival_date                   0\n",
              "item_type                             0\n",
              "client_keywords                       0\n",
              "client_device_type                    0\n",
              "client_browser                        0\n",
              "item_package_type                     0\n",
              "client_is_app                         0\n",
              "order_tracking_available              0\n",
              "brand_name                            0\n",
              "item_id                               0\n",
              "item_category                         0\n",
              "delivery_service_name                 0\n",
              "type_prepayment                       0\n",
              "item_price                            0\n",
              "item_losses                           0\n",
              "dtype: int64"
            ]
          },
          "metadata": {
            "tags": []
          },
          "execution_count": 9
        }
      ]
    },
    {
      "cell_type": "code",
      "metadata": {
        "id": "yRCjoEOr7DF5",
        "colab": {
          "base_uri": "https://localhost:8080/"
        },
        "outputId": "910742f8-95da-4d56-8d9b-766692a6b5b8"
      },
      "source": [
        "# check out data types\n",
        "train_df.dtypes"
      ],
      "execution_count": null,
      "outputs": [
        {
          "output_type": "execute_result",
          "data": {
            "text/plain": [
              "Unnamed: 0                           int64\n",
              "order_id                            object\n",
              "departure_country                    int64\n",
              "departure_city                     float64\n",
              "departure_region                     int64\n",
              "arrival_country                      int64\n",
              "arrival_city                       float64\n",
              "arrival_region                       int64\n",
              "order_date                          object\n",
              "stock_departure_date                object\n",
              "delivery_service_departure_date     object\n",
              "client_arrival_date                 object\n",
              "item_type                            int64\n",
              "client_keywords                     object\n",
              "client_device_type                   int64\n",
              "client_browser                       int64\n",
              "item_package_type                   object\n",
              "client_is_app                         bool\n",
              "order_tracking_available             int64\n",
              "brand_name                          object\n",
              "item_id                             object\n",
              "item_category                       object\n",
              "delivery_service_name               object\n",
              "type_prepayment                      int64\n",
              "item_price                         float64\n",
              "item_losses                        float64\n",
              "dtype: object"
            ]
          },
          "metadata": {
            "tags": []
          },
          "execution_count": 10
        }
      ]
    },
    {
      "cell_type": "markdown",
      "metadata": {
        "id": "SuyRH2TaqMDE"
      },
      "source": [
        "I've found some categorical features as int type. It needs to convert to object type."
      ]
    },
    {
      "cell_type": "code",
      "metadata": {
        "id": "ZTKoyIF1qYKY"
      },
      "source": [
        "int_columns = list(train_df.dtypes[train_df.dtypes == int].index[1:])\n",
        "train_df[int_columns] = train_df[int_columns].astype(str)"
      ],
      "execution_count": null,
      "outputs": []
    },
    {
      "cell_type": "markdown",
      "metadata": {
        "id": "eucBBJdVauF4"
      },
      "source": [
        "Checking out outliers and distibution."
      ]
    },
    {
      "cell_type": "code",
      "metadata": {
        "id": "CKmgZcoFzQzX",
        "colab": {
          "base_uri": "https://localhost:8080/",
          "height": 280
        },
        "outputId": "139c1993-744c-4366-fbd5-385890b8e934"
      },
      "source": [
        "sns.boxplot(x='item_price', data=train_df);"
      ],
      "execution_count": null,
      "outputs": [
        {
          "output_type": "display_data",
          "data": {
            "image/png": "[encoded data removed]",
            "text/plain": [
              "<Figure size 432x288 with 1 Axes>"
            ]
          },
          "metadata": {
            "tags": [],
            "needs_background": "light"
          }
        }
      ]
    },
    {
      "cell_type": "code",
      "metadata": {
        "id": "6WSg0JfZ5ery",
        "colab": {
          "base_uri": "https://localhost:8080/",
          "height": 268
        },
        "outputId": "d92aceb5-e443-4342-97ca-4caf78448ffe"
      },
      "source": [
        "train_df.item_price.hist(bins=40);"
      ],
      "execution_count": null,
      "outputs": [
        {
          "output_type": "display_data",
          "data": {
            "image/png": "[encoded data removed]",
            "text/plain": [
              "<Figure size 432x288 with 1 Axes>"
            ]
          },
          "metadata": {
            "tags": [],
            "needs_background": "light"
          }
        }
      ]
    },
    {
      "cell_type": "code",
      "metadata": {
        "id": "5qJzfCDTzQ1m",
        "colab": {
          "base_uri": "https://localhost:8080/",
          "height": 280
        },
        "outputId": "7557ceaa-9878-4896-a8e6-894e4eedf8f4"
      },
      "source": [
        "sns.boxplot(x='item_losses', data=train_df);"
      ],
      "execution_count": null,
      "outputs": [
        {
          "output_type": "display_data",
          "data": {
            "image/png": "[encoded data removed]",
            "text/plain": [
              "<Figure size 432x288 with 1 Axes>"
            ]
          },
          "metadata": {
            "tags": [],
            "needs_background": "light"
          }
        }
      ]
    },
    {
      "cell_type": "code",
      "metadata": {
        "id": "zANe8E5F5eyd",
        "colab": {
          "base_uri": "https://localhost:8080/",
          "height": 265
        },
        "outputId": "b4e6598c-a686-4cd3-da2e-86f9895e6d5d"
      },
      "source": [
        "train_df.item_losses.hist(bins=40);"
      ],
      "execution_count": null,
      "outputs": [
        {
          "output_type": "display_data",
          "data": {
            "image/png": "[encoded data removed]",
            "text/plain": [
              "<Figure size 432x288 with 1 Axes>"
            ]
          },
          "metadata": {
            "tags": [],
            "needs_background": "light"
          }
        }
      ]
    },
    {
      "cell_type": "markdown",
      "metadata": {
        "id": "DKV6W0i7yetA"
      },
      "source": [
        "It seems like a lot of outliers. At least distribution is normal."
      ]
    },
    {
      "cell_type": "code",
      "metadata": {
        "id": "3bic61O1z8_y",
        "colab": {
          "base_uri": "https://localhost:8080/",
          "height": 384
        },
        "outputId": "c516fee4-ffd5-490c-c574-521be8c3d26f"
      },
      "source": [
        "sns.catplot(x='departure_country', y='arrival_country', data=train_df);"
      ],
      "execution_count": null,
      "outputs": [
        {
          "output_type": "display_data",
          "data": {
            "image/png": "[encoded data removed]",
            "text/plain": [
              "<Figure size 360x360 with 1 Axes>"
            ]
          },
          "metadata": {
            "tags": [],
            "needs_background": "light"
          }
        }
      ]
    },
    {
      "cell_type": "markdown",
      "metadata": {
        "id": "fHwb-lBu5tdV"
      },
      "source": [
        "As we can see major part of delivery was international."
      ]
    },
    {
      "cell_type": "code",
      "metadata": {
        "id": "3M9y_WA0tzOo",
        "colab": {
          "base_uri": "https://localhost:8080/"
        },
        "outputId": "bbfa3d8f-7a7d-4d50-ffd8-347e2ffa897f"
      },
      "source": [
        "train_df.client_device_type.value_counts()"
      ],
      "execution_count": null,
      "outputs": [
        {
          "output_type": "execute_result",
          "data": {
            "text/plain": [
              "2       175578\n",
              "1        42928\n",
              "0        40824\n",
              "3        14395\n",
              "80          75\n",
              "         ...  \n",
              "25           1\n",
              "13           1\n",
              "1072         1\n",
              "752          1\n",
              "761          1\n",
              "Name: client_device_type, Length: 468, dtype: int64"
            ]
          },
          "metadata": {
            "tags": []
          },
          "execution_count": 17
        }
      ]
    },
    {
      "cell_type": "code",
      "metadata": {
        "id": "PP97Lz-7tzU3",
        "colab": {
          "base_uri": "https://localhost:8080/"
        },
        "outputId": "f27daec9-58b6-428e-e210-a05b30b9299f"
      },
      "source": [
        "train_df.client_browser.value_counts()"
      ],
      "execution_count": null,
      "outputs": [
        {
          "output_type": "execute_result",
          "data": {
            "text/plain": [
              "1    114417\n",
              "0     92038\n",
              "6     24470\n",
              "3     15906\n",
              "2     13577\n",
              "4      8630\n",
              "5      7166\n",
              "9         1\n",
              "Name: client_browser, dtype: int64"
            ]
          },
          "metadata": {
            "tags": []
          },
          "execution_count": 18
        }
      ]
    },
    {
      "cell_type": "code",
      "metadata": {
        "id": "j66eGNjYtzeG",
        "colab": {
          "base_uri": "https://localhost:8080/"
        },
        "outputId": "66dca09d-b240-442d-9db0-a85ac9c6ded5"
      },
      "source": [
        "train_df.item_package_type.value_counts()"
      ],
      "execution_count": null,
      "outputs": [
        {
          "output_type": "execute_result",
          "data": {
            "text/plain": [
              "c82a2ea6-cbf1-46af-98c5-acd43b174f5d    219717\n",
              "4b30b1ff-54b0-4aac-ac8a-6df7bb59548e     25584\n",
              "43c32a76-e5a3-4874-85c3-5377fa50b515     17374\n",
              "7b0818f4-617e-4843-a5c1-634d2c2a3c2f     12937\n",
              "1d030b8e-b455-4e27-9d19-c68c1d7924a4       593\n",
              "Name: item_package_type, dtype: int64"
            ]
          },
          "metadata": {
            "tags": []
          },
          "execution_count": 19
        }
      ]
    },
    {
      "cell_type": "code",
      "metadata": {
        "id": "PmbuR7HIvm7X",
        "colab": {
          "base_uri": "https://localhost:8080/"
        },
        "outputId": "252386dd-6f2d-49fa-d31e-7aaa1e152c51"
      },
      "source": [
        "train_df.item_category.value_counts()"
      ],
      "execution_count": null,
      "outputs": [
        {
          "output_type": "execute_result",
          "data": {
            "text/plain": [
              "ea77a36e-4b0c-4e8d-bf09-4c8398609ae1    99250\n",
              "25f9f297-40a8-45d9-bb67-4b0f6dad1315    80465\n",
              "5554bea4-f3cd-4432-bb13-73698f52de88    79302\n",
              "60959c0c-9c1a-434b-8442-3b8c2fc73655    14463\n",
              "243f0bd2-7e7b-4b32-96f9-5bd080948936     1636\n",
              "38541b4d-f0d3-4471-abbc-574f4f1779c8     1089\n",
              "Name: item_category, dtype: int64"
            ]
          },
          "metadata": {
            "tags": []
          },
          "execution_count": 20
        }
      ]
    },
    {
      "cell_type": "code",
      "metadata": {
        "id": "GGgXTj5Rvm9R",
        "colab": {
          "base_uri": "https://localhost:8080/"
        },
        "outputId": "f6cd5606-b0d0-4053-a4d1-43943c90bf73"
      },
      "source": [
        "train_df.delivery_service_name.value_counts()"
      ],
      "execution_count": null,
      "outputs": [
        {
          "output_type": "execute_result",
          "data": {
            "text/plain": [
              "5c8a6701-853f-4721-86f0-86e79f7220c4    207745\n",
              "eec00286-b56b-44b0-8882-7b7022355a8f     33555\n",
              "409f1e13-81ae-4e36-9bd2-6a6c53d38601     11791\n",
              "3f1e3d6a-a194-4cf9-9026-bb03a8f544c2      6048\n",
              "85282487-c17a-41ff-bedd-d0461a3e7330      5718\n",
              "fcaa3980-7779-4590-9c18-8ce1c03b6ee9      5052\n",
              "bcf8f840-043b-4637-a283-16e561d6a86c      1972\n",
              "56ecf0d7-73dd-4fee-80c3-9165a889088d      1120\n",
              "202230b2-235b-4dda-ad57-3a722d4cce5b       973\n",
              "42f718fe-d3b9-40e6-b5c7-e1cb31e7a7b5       853\n",
              "12fbc04a-c648-492c-9493-e21a792f228e       475\n",
              "b56d0da5-84b6-457a-9594-fdd0cd2cae13       266\n",
              "99e0a8dc-c1f1-4b62-bbd8-e429dbb18c31       209\n",
              "8742ac10-bec1-4d59-8514-604173977b8d       178\n",
              "831e66de-a6e9-4cff-b411-8c644b15e8a0       102\n",
              "a3fbdc94-4e7f-4d9e-bce6-33836a18e294        63\n",
              "6aa940a0-5d1a-4b33-8346-6a5c8c9d8af4        52\n",
              "bf42578f-62fd-4022-bb3d-ade42eb27b1e         9\n",
              "1b24a233-92c5-486a-acce-a337ff14fa21         6\n",
              "5b3f20f0-d81d-4abe-add6-cbc79ab88cab         5\n",
              "2df23a19-e607-4a38-a41d-f7d8a01a16d1         4\n",
              "8fa9cc7f-20ae-4533-894f-0369a2db3ec6         4\n",
              "d71d71fb-0694-4b3d-bd23-5b9a9c59da03         2\n",
              "5be9f326-8e85-4e64-8e3d-115cbe050fff         2\n",
              "9592add2-1b12-499e-a397-1791c2b3d294         1\n",
              "Name: delivery_service_name, dtype: int64"
            ]
          },
          "metadata": {
            "tags": []
          },
          "execution_count": 21
        }
      ]
    },
    {
      "cell_type": "code",
      "metadata": {
        "id": "j7BPZ0q5vm_h",
        "colab": {
          "base_uri": "https://localhost:8080/"
        },
        "outputId": "4025ce7c-c9e0-4dbb-873b-22d936b3b27f"
      },
      "source": [
        "train_df.type_prepayment.value_counts()"
      ],
      "execution_count": null,
      "outputs": [
        {
          "output_type": "execute_result",
          "data": {
            "text/plain": [
              "2    230690\n",
              "1     24947\n",
              "0     20544\n",
              "3        24\n",
              "Name: type_prepayment, dtype: int64"
            ]
          },
          "metadata": {
            "tags": []
          },
          "execution_count": 22
        }
      ]
    },
    {
      "cell_type": "markdown",
      "metadata": {
        "id": "awX98nKaosFo"
      },
      "source": [
        "# Feature Engineering"
      ]
    },
    {
      "cell_type": "markdown",
      "metadata": {
        "id": "vp42Q6xQXSJw"
      },
      "source": [
        "Function to transform data."
      ]
    },
    {
      "cell_type": "code",
      "metadata": {
        "id": "KcHBqKlrqnvA"
      },
      "source": [
        "def prepare_df(df, test=False):\n",
        "\n",
        "  df.drop(['Unnamed: 0', 'order_id', 'departure_city', 'departure_region',\n",
        "           'arrival_city', 'arrival_region', 'stock_departure_date',\n",
        "           'delivery_service_departure_date', 'client_keywords',\n",
        "           'brand_name', 'item_id',\n",
        "           'client_browser', 'type_prepayment',\n",
        "           'client_device_type'], axis=1, inplace=True)\n",
        "  \n",
        "  # delete outliers\n",
        "  if test:\n",
        "    pass\n",
        "  else:\n",
        "    df = df[df.item_price < 1600]\n",
        "\n",
        "  # create first feature\n",
        "  start_date = pd.to_datetime(df.order_date)\n",
        "  end_date = pd.to_datetime(df.client_arrival_date, format='%H-%M-%S %Y-%m-%d')\n",
        "  df['passed_days'] = (end_date - start_date).dt.days\n",
        "  # delete useless columns\n",
        "  df.drop(['order_date', 'client_arrival_date'], axis=1, inplace=True)\n",
        "\n",
        "  # create second feature\n",
        "  dep_c = df.departure_country.reset_index()\n",
        "  arr_c = df.arrival_country.reset_index()\n",
        "  destination = []\n",
        "\n",
        "  for i, j in zip(dep_c.iterrows(), arr_c.iterrows()):\n",
        "    \n",
        "    if i[1].departure_country == j[1].arrival_country:\n",
        "      destination.append('domestic')\n",
        "    else:\n",
        "      destination.append('international')\n",
        "      \n",
        "  df['destination'] = destination\n",
        "  df.drop(['departure_country', 'arrival_country'], axis=1, inplace=True)\n",
        "\n",
        "  # third\n",
        "  conditions = [\n",
        "    df['delivery_service_name'] == '5c8a6701-853f-4721-86f0-86e79f7220c4'\n",
        "    ]\n",
        "  choices = ['Main']\n",
        "  df['delivery_service_name'] = np.select(conditions, choices, default='Others')\n",
        "\n",
        "  # fourth\n",
        "  conditions = [\n",
        "    df['item_category'] == 'ea77a36e-4b0c-4e8d-bf09-4c8398609ae1',\n",
        "    df['item_category'] == '25f9f297-40a8-45d9-bb67-4b0f6dad1315',\n",
        "    df['item_category'] == '5554bea4-f3cd-4432-bb13-73698f52de88'\n",
        "    ]\n",
        "  choices = ['Popular', 'Popular', 'Popular']\n",
        "  df['item_category'] = np.select(conditions, choices, default='Others')\n",
        "\n",
        "  # fifth\n",
        "  conditions = [\n",
        "    df['item_package_type'] == 'c82a2ea6-cbf1-46af-98c5-acd43b174f5d'\n",
        "    ]\n",
        "  choices = ['Main']\n",
        "  df['item_package_type'] = np.select(conditions, choices, default='Others')\n",
        "  \n",
        "  if test:\n",
        "    dummy_columns = [x for x in df.columns if x not in ['item_price',\n",
        "                                                        'passed_days']]\n",
        "  else:\n",
        "    dummy_columns = [x for x in df.columns if x not in ['item_losses',\n",
        "                                                        'passed_days',\n",
        "                                                        'item_price']]\n",
        "\n",
        "  df = pd.get_dummies(df, columns=dummy_columns)\n",
        "\n",
        "  return df"
      ],
      "execution_count": null,
      "outputs": []
    },
    {
      "cell_type": "code",
      "metadata": {
        "id": "Ym1-yRO7g3_G"
      },
      "source": [
        "# get copies\n",
        "train_data = train_df.copy()\n",
        "test_data = test_df.copy()"
      ],
      "execution_count": null,
      "outputs": []
    },
    {
      "cell_type": "code",
      "metadata": {
        "id": "p8Y92XL4yclC"
      },
      "source": [
        "train_df = prepare_df(train_df)\n",
        "test_df = prepare_df(test_df, test=True)\n",
        "\n",
        "print('Train data size', train_df.shape)\n",
        "print('Test data size', test_df.shape)"
      ],
      "execution_count": null,
      "outputs": []
    },
    {
      "cell_type": "markdown",
      "metadata": {
        "id": "qdZXknBCFbXe"
      },
      "source": [
        "# Modeling"
      ]
    },
    {
      "cell_type": "code",
      "metadata": {
        "id": "U2FerZEjsc8x"
      },
      "source": [
        "x = train_df.drop('item_losses', axis=1)\n",
        "y = train_df.item_losses"
      ],
      "execution_count": null,
      "outputs": []
    },
    {
      "cell_type": "code",
      "metadata": {
        "id": "1BO4nAaEq6jg"
      },
      "source": [
        "SEED = 40"
      ],
      "execution_count": null,
      "outputs": []
    },
    {
      "cell_type": "code",
      "metadata": {
        "id": "Ve9My7VurA9b"
      },
      "source": [
        "x_train, x_test, y_train, y_test = train_test_split(x, y,\n",
        "                                                    test_size=0.2,\n",
        "                                                    random_state=SEED)"
      ],
      "execution_count": null,
      "outputs": []
    },
    {
      "cell_type": "markdown",
      "metadata": {
        "id": "kfYFnsdgFNQH"
      },
      "source": [
        "I'm gonna choose R2 metric cause it's simple and easy to understand metric when it comes to compare different models."
      ]
    },
    {
      "cell_type": "code",
      "metadata": {
        "id": "K4xc05cXmwK6"
      },
      "source": [
        "def model_gridsearch(model, param):\n",
        "  model_gs = GridSearchCV(model, param, scoring='r2', n_jobs=-1)\n",
        "  model_gs.fit(x_train, y_train)\n",
        "  print(f'R2 {model_gs.best_score_}\\nBest params {model_gs.best_params_}')"
      ],
      "execution_count": null,
      "outputs": []
    },
    {
      "cell_type": "code",
      "metadata": {
        "id": "TmD15MfMxIxe",
        "colab": {
          "base_uri": "https://localhost:8080/"
        },
        "outputId": "ba3847ca-4dd7-4aff-fe61-4ba2a372fb24"
      },
      "source": [
        "xgbr = xgb.XGBRegressor(random_state=SEED)\n",
        "\n",
        "param_xgbr = {\n",
        "    'learning_rate': [0.1, 0.01, 0.3],\n",
        "    'reg_lambda': [1, 0.5, 0]\n",
        "}\n",
        "\n",
        "model_gridsearch(xgbr, param_xgbr)"
      ],
      "execution_count": null,
      "outputs": [
        {
          "output_type": "stream",
          "text": [
            "[12:51:32] WARNING: /workspace/src/objective/regression_obj.cu:152: reg:linear is now deprecated in favor of reg:squarederror.\n",
            "R2 0.040139712868016805\n",
            "Лучшие параметры {'learning_rate': 0.3, 'reg_lambda': 1}\n"
          ],
          "name": "stdout"
        }
      ]
    },
    {
      "cell_type": "code",
      "metadata": {
        "colab": {
          "base_uri": "https://localhost:8080/"
        },
        "id": "T4u23yKMcW_-",
        "outputId": "bc9cebb2-bdb0-410a-f580-0099055e81cb"
      },
      "source": [
        "xgbrf = xgb.XGBRFRegressor(random_state=SEED)\n",
        "\n",
        "param_xgbrf = {\n",
        "    'learning_rate': [1, 0.1, 1.1],\n",
        "    'reg_lambda': [1, 0.5, 0]\n",
        "}\n",
        "\n",
        "model_gridsearch(xgbrf, param_xgbrf)"
      ],
      "execution_count": null,
      "outputs": [
        {
          "output_type": "stream",
          "text": [
            "[12:56:21] WARNING: /workspace/src/objective/regression_obj.cu:152: reg:linear is now deprecated in favor of reg:squarederror.\n",
            "R2 0.026068912749995232\n",
            "Лучшие параметры {'learning_rate': 1, 'reg_lambda': 0.5}\n"
          ],
          "name": "stdout"
        }
      ]
    },
    {
      "cell_type": "code",
      "metadata": {
        "colab": {
          "base_uri": "https://localhost:8080/"
        },
        "id": "xQtud3ZncXRg",
        "outputId": "ae1e032b-edc6-4816-ae6d-8bc32d507fc7"
      },
      "source": [
        "lgbmr = LGBMRegressor(random_state=SEED, objective='regression')\n",
        "\n",
        "param_lgbmr = {\n",
        "    'boosting_type': ['gbdt', 'goss', 'rt'],\n",
        "    'learning_rate': [0.1, 0.01, 0.05],\n",
        "    'reg_lambda': [0, 0.5, 1]\n",
        "}\n",
        "\n",
        "model_gridsearch(lgbmr, param_lgbmr)"
      ],
      "execution_count": null,
      "outputs": [
        {
          "output_type": "stream",
          "text": [
            "R2 0.054747238956334356\n",
            "Лучшие параметры {'boosting_type': 'gbdt', 'learning_rate': 0.1, 'reg_lambda': 0}\n"
          ],
          "name": "stdout"
        }
      ]
    },
    {
      "cell_type": "code",
      "metadata": {
        "colab": {
          "base_uri": "https://localhost:8080/"
        },
        "id": "w4R69UHdffTz",
        "outputId": "fbcd9ba4-c1aa-4976-cb43-67b0bd481019"
      },
      "source": [
        "xgbr_ = xgb.XGBRegressor(random_state=SEED, learning_rate=0.3, reg_lambda=1)\n",
        "xgbrf_ = xgb.XGBRFRegressor(random_state=SEED, learning_rate=1, reg_lambda=0.5)\n",
        "lgbmr_ = LGBMRegressor(random_state=SEED, objective='regression',\n",
        "                       boosting_type='gbdt', learning_rate=0.1, reg_lambda=0)\n",
        "\n",
        "vr = VotingRegressor([('xgbr', xgbr_), ('xgbrf', xgbrf_), ('lgbmr', lgbmr_)])\n",
        "vr.fit(x_train, y_train)\n",
        "pred = vr.predict(x_test)"
      ],
      "execution_count": null,
      "outputs": [
        {
          "output_type": "stream",
          "text": [
            "[12:58:47] WARNING: /workspace/src/objective/regression_obj.cu:152: reg:linear is now deprecated in favor of reg:squarederror.\n",
            "[12:58:59] WARNING: /workspace/src/objective/regression_obj.cu:152: reg:linear is now deprecated in favor of reg:squarederror.\n"
          ],
          "name": "stdout"
        }
      ]
    },
    {
      "cell_type": "markdown",
      "metadata": {
        "id": "l6q6GeiQYaWq"
      },
      "source": [
        "Added MAE. I need second metric which is robust to outliers."
      ]
    },
    {
      "cell_type": "code",
      "metadata": {
        "colab": {
          "base_uri": "https://localhost:8080/"
        },
        "id": "mdn4DkduGcPC",
        "outputId": "190c4d66-6907-4f92-eea4-dfe589c980fb"
      },
      "source": [
        "print(f'MAE: {mean_absolute_error(y_test, pred)}')\n",
        "print(f'R2: {r2_score(y_test, pred)}')"
      ],
      "execution_count": null,
      "outputs": [
        {
          "output_type": "stream",
          "text": [
            "MAE: 31.291524831325653\n",
            "R2: 0.042840609976363186\n"
          ],
          "name": "stdout"
        }
      ]
    }
  ]
}